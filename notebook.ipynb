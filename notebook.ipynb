{
 "cells": [
  {
   "cell_type": "code",
   "execution_count": 2,
   "id": "fa61e9b6-c697-40db-b495-be6bfbdcfacd",
   "metadata": {},
   "outputs": [],
   "source": [
    "import math\n",
    "import numpy as np\n",
    "import matplotlib.pyplot as plt\n",
    "%matplotlib inline"
   ]
  },
  {
   "cell_type": "code",
   "execution_count": 3,
   "id": "dd76a85e-271b-47db-b5fa-b1a8a5901380",
   "metadata": {},
   "outputs": [],
   "source": [
    "def f(x):\n",
    "    return 3*x**2 - 4*x + 5"
   ]
  },
  {
   "cell_type": "code",
   "execution_count": 4,
   "id": "42c57a36-4441-471e-a6b1-6e815c8b2d04",
   "metadata": {},
   "outputs": [
    {
     "data": {
      "text/plain": [
       "20"
      ]
     },
     "execution_count": 4,
     "metadata": {},
     "output_type": "execute_result"
    }
   ],
   "source": [
    "f(3)"
   ]
  },
  {
   "cell_type": "code",
   "execution_count": 6,
   "id": "18035005-edfb-4f49-addb-a3408eede35c",
   "metadata": {
    "scrolled": true
   },
   "outputs": [
    {
     "data": {
      "text/plain": [
       "[<matplotlib.lines.Line2D at 0x12625ad10>]"
      ]
     },
     "execution_count": 6,
     "metadata": {},
     "output_type": "execute_result"
    },
    {
     "data": {
      "image/png": "[encoded data removed]",
      "text/plain": [
       "<Figure size 640x480 with 1 Axes>"
      ]
     },
     "metadata": {},
     "output_type": "display_data"
    }
   ],
   "source": [
    "xs = np.arange(-5, 5, 0.25)\n",
    "ys = f(xs)\n",
    "plt.plot(xs, ys)"
   ]
  },
  {
   "cell_type": "code",
   "execution_count": 9,
   "id": "8e271f30-9d73-4819-99d1-c523f5fb5390",
   "metadata": {},
   "outputs": [
    {
     "data": {
      "text/plain": [
       "2.999378523327323e-06"
      ]
     },
     "execution_count": 9,
     "metadata": {},
     "output_type": "execute_result"
    }
   ],
   "source": [
    "h = 0.000001\n",
    "x = 2/3\n",
    "(f(x + h) - f(x)) / h"
   ]
  },
  {
   "cell_type": "code",
   "execution_count": 10,
   "id": "46dc1ff6-93d8-4d29-9b74-4d9b6c80de40",
   "metadata": {},
   "outputs": [
    {
     "name": "stdout",
     "output_type": "stream",
     "text": [
      "4.0\n"
     ]
    }
   ],
   "source": [
    "a = 2.0\n",
    "b = -3.0\n",
    "c = 10.0\n",
    "d = a*b + c\n",
    "print(d)"
   ]
  },
  {
   "cell_type": "code",
   "execution_count": 12,
   "id": "b5e53bc4-6ba8-4573-8069-fe98ff81fef3",
   "metadata": {},
   "outputs": [
    {
     "data": {
      "text/plain": [
       "-3.000000000419334"
      ]
     },
     "execution_count": 12,
     "metadata": {},
     "output_type": "execute_result"
    }
   ],
   "source": [
    "h = 0.000001\n",
    "a = 2.0\n",
    "b = -3.0\n",
    "c = 10.0\n",
    "d1 = a*b + c\n",
    "a += h\n",
    "d2 = a*b + c\n",
    "(d2 - d1) / h"
   ]
  },
  {
   "cell_type": "code",
   "execution_count": 63,
   "id": "b483c845-00b4-4b13-b810-a78ea4ac5110",
   "metadata": {},
   "outputs": [
    {
     "data": {
      "text/plain": [
       "Value(data=4.0)"
      ]
     },
     "execution_count": 63,
     "metadata": {},
     "output_type": "execute_result"
    }
   ],
   "source": [
    "class Value:\n",
    "\n",
    "    def __init__(self, data, _children=(), _op='', label=''):\n",
    "        self.data = data\n",
    "        self.grad = 0\n",
    "        self._backward = lambda: None\n",
    "        self._prev = set(_children)\n",
    "        self._op = _op\n",
    "        self.label = label\n",
    "        \n",
    "    def __repr__(self):\n",
    "        return f\"Value(data={self.data})\"\n",
    "\n",
    "    def __add__(self, other):\n",
    "        out = Value(self.data + other.data, (self, other), '+')\n",
    "        def _backward():\n",
    "            self.grad = 1.0 * out.grad\n",
    "            other.grad = 1.0 * out.grad\n",
    "        out._backward = _backward\n",
    "        return out\n",
    "\n",
    "    def __mul__(self, other):\n",
    "        out = Value(self.data * other.data, (self, other), '*')\n",
    "        def _backward():\n",
    "            self.grad = other.data * out.grad\n",
    "            other.grad = self.data * out.grad\n",
    "        out._backward = _backward\n",
    "        return out\n",
    "\n",
    "    def tanh(self):\n",
    "        x = self.data\n",
    "        t = (math.exp(2 * x) - 1) / (math.exp(2 * x) + 1)\n",
    "        out = Value(t, (self,), 'tanh')\n",
    "        def _backward():\n",
    "            self.grad = (1 - t**2) * out.grad\n",
    "        out._backward = _backward\n",
    "        return out\n",
    "\n",
    "    def backward():\n",
    "        o.grad = 1.0\n",
    "\n",
    "        topo = []\n",
    "        visited = set()\n",
    "        \n",
    "        def build_topo(v):\n",
    "          if v not in visited:\n",
    "            visited.add(v)\n",
    "            for child in v._prev:\n",
    "              build_topo(child)\n",
    "            topo.append(v)\n",
    "        build_topo(o)\n",
    "        \n",
    "        for node in reversed(topo):\n",
    "            node._backward()\n",
    "        \n",
    "\n",
    "a = Value(2.0, label='a')\n",
    "b = Value(-3.0, label='b')\n",
    "c = Value(10.0, label='c')\n",
    "e = a * b\n",
    "e.label = 'e'\n",
    "d = e + c\n",
    "d.label = 'd'\n",
    "f = Value(-2.0, label='f')\n",
    "L = d * f\n",
    "L.label = 'L'\n",
    "d"
   ]
  },
  {
   "cell_type": "code",
   "execution_count": 10,
   "id": "448b199e-3385-4000-b4bb-5111dad374aa",
   "metadata": {
    "jupyter": {
     "source_hidden": true
    }
   },
   "outputs": [],
   "source": [
    "from graphviz import Digraph\n",
    "\n",
    "def trace(root):\n",
    "  # builds a set of all nodes and edges in a graph\n",
    "  nodes, edges = set(), set()\n",
    "  def build(v):\n",
    "    if v not in nodes:\n",
    "      nodes.add(v)\n",
    "      for child in v._prev:\n",
    "        edges.add((child, v))\n",
    "        build(child)\n",
    "  build(root)\n",
    "  return nodes, edges\n",
    "\n",
    "def draw_dot(root):\n",
    "  dot = Digraph(format='svg', graph_attr={'rankdir': 'LR'}) # LR = left to right\n",
    "  \n",
    "  nodes, edges = trace(root)\n",
    "  for n in nodes:\n",
    "    uid = str(id(n))\n",
    "    # for any value in the graph, create a rectangular ('record') node for it\n",
    "    dot.node(name = uid, label = \"{ %s | data %.4f | grad %.4f }\" % (n.label, n.data, n.grad), shape='record')\n",
    "    if n._op:\n",
    "      # if this value is a result of some operation, create an op node for it\n",
    "      dot.node(name = uid + n._op, label = n._op)\n",
    "      # and connect this node to it\n",
    "      dot.edge(uid + n._op, uid)\n",
    "\n",
    "  for n1, n2 in edges:\n",
    "    # connect n1 to the op node of n2\n",
    "    dot.edge(str(id(n1)), str(id(n2)) + n2._op)\n",
    "\n",
    "  return dot"
   ]
  },
  {
   "cell_type": "code",
   "execution_count": 21,
   "id": "ba43ba8a-9b89-4aa2-aca4-51d5a8ec272b",
   "metadata": {
    "collapsed": true,
    "jupyter": {
     "outputs_hidden": true
    },
    "scrolled": true
   },
   "outputs": [
    {
     "data": {
      "image/svg+xml": [
       "<?xml version=\"1.0\" encoding=\"UTF-8\" standalone=\"no\"?>\n",
       "<!DOCTYPE svg PUBLIC \"-//W3C//DTD SVG 1.1//EN\"\n",
       " \"http://www.w3.org/Graphics/SVG/1.1/DTD/svg11.dtd\">\n",
       "<!-- Generated by graphviz version 12.1.0 (20240811.2233)\n",
       " -->\n",
       "<!-- Pages: 1 -->\n",
       "<svg width=\"1151pt\" height=\"154pt\"\n",
       " viewBox=\"0.00 0.00 1151.00 154.00\" xmlns=\"http://www.w3.org/2000/svg\" xmlns:xlink=\"http://www.w3.org/1999/xlink\">\n",
       "<g id=\"graph0\" class=\"graph\" transform=\"scale(1 1) rotate(0) translate(4 150)\">\n",
       "<polygon fill=\"white\" stroke=\"none\" points=\"-4,4 -4,-150 1147,-150 1147,4 -4,4\"/>\n",
       "<!-- 4631512080 -->\n",
       "<g id=\"node1\" class=\"node\">\n",
       "<title>4631512080</title>\n",
       "<polygon fill=\"none\" stroke=\"black\" points=\"319.88,-27.5 319.88,-63.5 511.88,-63.5 511.88,-27.5 319.88,-27.5\"/>\n",
       "<text text-anchor=\"middle\" x=\"330.88\" y=\"-40.7\" font-family=\"Times,serif\" font-size=\"14.00\">e</text>\n",
       "<polyline fill=\"none\" stroke=\"black\" points=\"341.88,-28 341.88,-63.5\"/>\n",
       "<text text-anchor=\"middle\" x=\"384\" y=\"-40.7\" font-family=\"Times,serif\" font-size=\"14.00\">data &#45;6.0000</text>\n",
       "<polyline fill=\"none\" stroke=\"black\" points=\"426.12,-28 426.12,-63.5\"/>\n",
       "<text text-anchor=\"middle\" x=\"469\" y=\"-40.7\" font-family=\"Times,serif\" font-size=\"14.00\">grad &#45;2.0000</text>\n",
       "</g>\n",
       "<!-- 4631515856+ -->\n",
       "<g id=\"node5\" class=\"node\">\n",
       "<title>4631515856+</title>\n",
       "<ellipse fill=\"none\" stroke=\"black\" cx=\"576\" cy=\"-72.5\" rx=\"27\" ry=\"18\"/>\n",
       "<text text-anchor=\"middle\" x=\"576\" y=\"-67.45\" font-family=\"Times,serif\" font-size=\"14.00\">+</text>\n",
       "</g>\n",
       "<!-- 4631512080&#45;&gt;4631515856+ -->\n",
       "<g id=\"edge9\" class=\"edge\">\n",
       "<title>4631512080&#45;&gt;4631515856+</title>\n",
       "<path fill=\"none\" stroke=\"black\" d=\"M512.05,-61.75C521.28,-63.33 530.2,-64.85 538.29,-66.23\"/>\n",
       "<polygon fill=\"black\" stroke=\"black\" points=\"537.53,-69.65 547.98,-67.89 538.71,-62.75 537.53,-69.65\"/>\n",
       "</g>\n",
       "<!-- 4631512080* -->\n",
       "<g id=\"node2\" class=\"node\">\n",
       "<title>4631512080*</title>\n",
       "<ellipse fill=\"none\" stroke=\"black\" cx=\"255.75\" cy=\"-45.5\" rx=\"27\" ry=\"18\"/>\n",
       "<text text-anchor=\"middle\" x=\"255.75\" y=\"-40.45\" font-family=\"Times,serif\" font-size=\"14.00\">*</text>\n",
       "</g>\n",
       "<!-- 4631512080*&#45;&gt;4631512080 -->\n",
       "<g id=\"edge1\" class=\"edge\">\n",
       "<title>4631512080*&#45;&gt;4631512080</title>\n",
       "<path fill=\"none\" stroke=\"black\" d=\"M283.22,-45.5C290.59,-45.5 299.09,-45.5 308.13,-45.5\"/>\n",
       "<polygon fill=\"black\" stroke=\"black\" points=\"307.89,-49 317.89,-45.5 307.89,-42 307.89,-49\"/>\n",
       "</g>\n",
       "<!-- 4631512144 -->\n",
       "<g id=\"node3\" class=\"node\">\n",
       "<title>4631512144</title>\n",
       "<polygon fill=\"none\" stroke=\"black\" points=\"0,-55.5 0,-91.5 192.75,-91.5 192.75,-55.5 0,-55.5\"/>\n",
       "<text text-anchor=\"middle\" x=\"11.38\" y=\"-68.7\" font-family=\"Times,serif\" font-size=\"14.00\">b</text>\n",
       "<polyline fill=\"none\" stroke=\"black\" points=\"22.75,-56 22.75,-91.5\"/>\n",
       "<text text-anchor=\"middle\" x=\"64.88\" y=\"-68.7\" font-family=\"Times,serif\" font-size=\"14.00\">data &#45;3.0000</text>\n",
       "<polyline fill=\"none\" stroke=\"black\" points=\"107,-56 107,-91.5\"/>\n",
       "<text text-anchor=\"middle\" x=\"149.88\" y=\"-68.7\" font-family=\"Times,serif\" font-size=\"14.00\">grad &#45;4.0000</text>\n",
       "</g>\n",
       "<!-- 4631512144&#45;&gt;4631512080* -->\n",
       "<g id=\"edge5\" class=\"edge\">\n",
       "<title>4631512144&#45;&gt;4631512080*</title>\n",
       "<path fill=\"none\" stroke=\"black\" d=\"M193,-56.49C201.81,-54.92 210.32,-53.41 218.06,-52.03\"/>\n",
       "<polygon fill=\"black\" stroke=\"black\" points=\"218.43,-55.52 227.66,-50.32 217.21,-48.62 218.43,-55.52\"/>\n",
       "</g>\n",
       "<!-- 4631515856 -->\n",
       "<g id=\"node4\" class=\"node\">\n",
       "<title>4631515856</title>\n",
       "<polygon fill=\"none\" stroke=\"black\" points=\"639,-54.5 639,-90.5 827.25,-90.5 827.25,-54.5 639,-54.5\"/>\n",
       "<text text-anchor=\"middle\" x=\"650.38\" y=\"-67.7\" font-family=\"Times,serif\" font-size=\"14.00\">d</text>\n",
       "<polyline fill=\"none\" stroke=\"black\" points=\"661.75,-55 661.75,-90.5\"/>\n",
       "<text text-anchor=\"middle\" x=\"701.62\" y=\"-67.7\" font-family=\"Times,serif\" font-size=\"14.00\">data 4.0000</text>\n",
       "<polyline fill=\"none\" stroke=\"black\" points=\"741.5,-55 741.5,-90.5\"/>\n",
       "<text text-anchor=\"middle\" x=\"784.38\" y=\"-67.7\" font-family=\"Times,serif\" font-size=\"14.00\">grad &#45;2.0000</text>\n",
       "</g>\n",
       "<!-- 4631514832* -->\n",
       "<g id=\"node7\" class=\"node\">\n",
       "<title>4631514832*</title>\n",
       "<ellipse fill=\"none\" stroke=\"black\" cx=\"890.25\" cy=\"-99.5\" rx=\"27\" ry=\"18\"/>\n",
       "<text text-anchor=\"middle\" x=\"890.25\" y=\"-94.45\" font-family=\"Times,serif\" font-size=\"14.00\">*</text>\n",
       "</g>\n",
       "<!-- 4631515856&#45;&gt;4631514832* -->\n",
       "<g id=\"edge7\" class=\"edge\">\n",
       "<title>4631515856&#45;&gt;4631514832*</title>\n",
       "<path fill=\"none\" stroke=\"black\" d=\"M827.49,-88.75C836.27,-90.28 844.77,-91.76 852.51,-93.1\"/>\n",
       "<polygon fill=\"black\" stroke=\"black\" points=\"851.66,-96.51 862.11,-94.78 852.86,-89.61 851.66,-96.51\"/>\n",
       "</g>\n",
       "<!-- 4631515856+&#45;&gt;4631515856 -->\n",
       "<g id=\"edge2\" class=\"edge\">\n",
       "<title>4631515856+&#45;&gt;4631515856</title>\n",
       "<path fill=\"none\" stroke=\"black\" d=\"M603.31,-72.5C610.49,-72.5 618.72,-72.5 627.47,-72.5\"/>\n",
       "<polygon fill=\"black\" stroke=\"black\" points=\"627.29,-76 637.29,-72.5 627.29,-69 627.29,-76\"/>\n",
       "</g>\n",
       "<!-- 4631514832 -->\n",
       "<g id=\"node6\" class=\"node\">\n",
       "<title>4631514832</title>\n",
       "<polygon fill=\"none\" stroke=\"black\" points=\"953.25,-81.5 953.25,-117.5 1143,-117.5 1143,-81.5 953.25,-81.5\"/>\n",
       "<text text-anchor=\"middle\" x=\"965.38\" y=\"-94.7\" font-family=\"Times,serif\" font-size=\"14.00\">L</text>\n",
       "<polyline fill=\"none\" stroke=\"black\" points=\"977.5,-82 977.5,-117.5\"/>\n",
       "<text text-anchor=\"middle\" x=\"1019.62\" y=\"-94.7\" font-family=\"Times,serif\" font-size=\"14.00\">data &#45;8.0000</text>\n",
       "<polyline fill=\"none\" stroke=\"black\" points=\"1061.75,-82 1061.75,-117.5\"/>\n",
       "<text text-anchor=\"middle\" x=\"1102.38\" y=\"-94.7\" font-family=\"Times,serif\" font-size=\"14.00\">grad 1.0000</text>\n",
       "</g>\n",
       "<!-- 4631514832*&#45;&gt;4631514832 -->\n",
       "<g id=\"edge3\" class=\"edge\">\n",
       "<title>4631514832*&#45;&gt;4631514832</title>\n",
       "<path fill=\"none\" stroke=\"black\" d=\"M917.69,-99.5C924.84,-99.5 933.03,-99.5 941.74,-99.5\"/>\n",
       "<polygon fill=\"black\" stroke=\"black\" points=\"941.51,-103 951.51,-99.5 941.51,-96 941.51,-103\"/>\n",
       "</g>\n",
       "<!-- 4631514448 -->\n",
       "<g id=\"node8\" class=\"node\">\n",
       "<title>4631514448</title>\n",
       "<polygon fill=\"none\" stroke=\"black\" points=\"640.12,-109.5 640.12,-145.5 826.12,-145.5 826.12,-109.5 640.12,-109.5\"/>\n",
       "<text text-anchor=\"middle\" x=\"650.38\" y=\"-122.7\" font-family=\"Times,serif\" font-size=\"14.00\">f</text>\n",
       "<polyline fill=\"none\" stroke=\"black\" points=\"660.62,-110 660.62,-145.5\"/>\n",
       "<text text-anchor=\"middle\" x=\"702.75\" y=\"-122.7\" font-family=\"Times,serif\" font-size=\"14.00\">data &#45;2.0000</text>\n",
       "<polyline fill=\"none\" stroke=\"black\" points=\"744.88,-110 744.88,-145.5\"/>\n",
       "<text text-anchor=\"middle\" x=\"785.5\" y=\"-122.7\" font-family=\"Times,serif\" font-size=\"14.00\">grad 4.0000</text>\n",
       "</g>\n",
       "<!-- 4631514448&#45;&gt;4631514832* -->\n",
       "<g id=\"edge6\" class=\"edge\">\n",
       "<title>4631514448&#45;&gt;4631514832*</title>\n",
       "<path fill=\"none\" stroke=\"black\" d=\"M826.6,-110.81C835.76,-109.16 844.62,-107.56 852.67,-106.1\"/>\n",
       "<polygon fill=\"black\" stroke=\"black\" points=\"853.09,-109.58 862.31,-104.36 851.84,-102.7 853.09,-109.58\"/>\n",
       "</g>\n",
       "<!-- 4631512400 -->\n",
       "<g id=\"node9\" class=\"node\">\n",
       "<title>4631512400</title>\n",
       "<polygon fill=\"none\" stroke=\"black\" points=\"4.88,-0.5 4.88,-36.5 187.88,-36.5 187.88,-0.5 4.88,-0.5\"/>\n",
       "<text text-anchor=\"middle\" x=\"15.88\" y=\"-13.7\" font-family=\"Times,serif\" font-size=\"14.00\">a</text>\n",
       "<polyline fill=\"none\" stroke=\"black\" points=\"26.88,-1 26.88,-36.5\"/>\n",
       "<text text-anchor=\"middle\" x=\"66.75\" y=\"-13.7\" font-family=\"Times,serif\" font-size=\"14.00\">data 2.0000</text>\n",
       "<polyline fill=\"none\" stroke=\"black\" points=\"106.62,-1 106.62,-36.5\"/>\n",
       "<text text-anchor=\"middle\" x=\"147.25\" y=\"-13.7\" font-family=\"Times,serif\" font-size=\"14.00\">grad 6.0000</text>\n",
       "</g>\n",
       "<!-- 4631512400&#45;&gt;4631512080* -->\n",
       "<g id=\"edge4\" class=\"edge\">\n",
       "<title>4631512400&#45;&gt;4631512080*</title>\n",
       "<path fill=\"none\" stroke=\"black\" d=\"M188.01,-34.05C198.46,-35.84 208.62,-37.59 217.74,-39.15\"/>\n",
       "<polygon fill=\"black\" stroke=\"black\" points=\"217.11,-42.59 227.56,-40.84 218.3,-35.69 217.11,-42.59\"/>\n",
       "</g>\n",
       "<!-- 4631514000 -->\n",
       "<g id=\"node10\" class=\"node\">\n",
       "<title>4631514000</title>\n",
       "<polygon fill=\"none\" stroke=\"black\" points=\"318.75,-82.5 318.75,-118.5 513,-118.5 513,-82.5 318.75,-82.5\"/>\n",
       "<text text-anchor=\"middle\" x=\"329.75\" y=\"-95.7\" font-family=\"Times,serif\" font-size=\"14.00\">c</text>\n",
       "<polyline fill=\"none\" stroke=\"black\" points=\"340.75,-83 340.75,-118.5\"/>\n",
       "<text text-anchor=\"middle\" x=\"384\" y=\"-95.7\" font-family=\"Times,serif\" font-size=\"14.00\">data 10.0000</text>\n",
       "<polyline fill=\"none\" stroke=\"black\" points=\"427.25,-83 427.25,-118.5\"/>\n",
       "<text text-anchor=\"middle\" x=\"470.12\" y=\"-95.7\" font-family=\"Times,serif\" font-size=\"14.00\">grad &#45;2.0000</text>\n",
       "</g>\n",
       "<!-- 4631514000&#45;&gt;4631515856+ -->\n",
       "<g id=\"edge8\" class=\"edge\">\n",
       "<title>4631514000&#45;&gt;4631515856+</title>\n",
       "<path fill=\"none\" stroke=\"black\" d=\"M513.41,-83.41C522.21,-81.85 530.7,-80.34 538.42,-78.98\"/>\n",
       "<polygon fill=\"black\" stroke=\"black\" points=\"538.77,-82.47 548,-77.28 537.55,-75.58 538.77,-82.47\"/>\n",
       "</g>\n",
       "</g>\n",
       "</svg>\n"
      ],
      "text/plain": [
       "<graphviz.graphs.Digraph at 0x113fadcd0>"
      ]
     },
     "execution_count": 21,
     "metadata": {},
     "output_type": "execute_result"
    }
   ],
   "source": [
    "L.grad = 1.0\n",
    "draw_dot(L)"
   ]
  },
  {
   "cell_type": "code",
   "execution_count": 27,
   "id": "cda25da3-1f2b-4a0c-a037-9fd17c6e42bc",
   "metadata": {},
   "outputs": [
    {
     "data": {
      "text/plain": [
       "Value(data=-5.900192000000001)"
      ]
     },
     "execution_count": 27,
     "metadata": {},
     "output_type": "execute_result"
    }
   ],
   "source": [
    "f.grad = 4.0\n",
    "d.grad = -2.0\n",
    "c.grad = -2.0\n",
    "e.grad = -2.0\n",
    "b.grad = -2.0 * 2.0\n",
    "a.grad = -2.0 * -3.0\n",
    "\n",
    "a.data += 0.01 * a.grad\n",
    "b.data += 0.01 * b.grad\n",
    "c.data += 0.01 * c.grad\n",
    "d.data += 0.01 * d.grad\n",
    "e.data += 0.01 * e.grad\n",
    "f.data += 0.01 * f.grad\n",
    "\n",
    "e = a * b\n",
    "d = e + c\n",
    "L = d * f\n",
    "L\n",
    "\n"
   ]
  },
  {
   "cell_type": "code",
   "execution_count": 23,
   "id": "66165ec4-e14c-4aee-b1fd-e565a56a87f6",
   "metadata": {},
   "outputs": [
    {
     "name": "stdout",
     "output_type": "stream",
     "text": [
      "-1.9999999999953388\n"
     ]
    }
   ],
   "source": [
    "def lol():\n",
    "\n",
    "    h = 0.0001\n",
    "    \n",
    "    a = Value(2.0, label='a')\n",
    "    b = Value(-3.0, label='b')\n",
    "    c = Value(10.0, label='c')\n",
    "    e = a * b; e.label = 'e'\n",
    "    d = e + c; d.label = 'd'\n",
    "    f = Value(-2.0, label='f')\n",
    "    L = d * f; L.label = 'L'\n",
    "    L1 = L.data\n",
    "    \n",
    "    a = Value(2.0, label='a')\n",
    "    b = Value(-3.0, label='b')\n",
    "    c = Value(10.0, label='c')\n",
    "    e = a * b; e.label = 'e'\n",
    "    d = e + c; d.label = 'd'\n",
    "    d.data += h\n",
    "    f = Value(-2.0, label='f')\n",
    "    L = d * f; L.label = 'L'\n",
    "    L2 = L.data\n",
    "\n",
    "    print((L2-L1)/h)\n",
    "\n",
    "lol()"
   ]
  },
  {
   "cell_type": "code",
   "execution_count": 64,
   "id": "dd09ab09-11b8-467d-a4f6-1f1da440bdb4",
   "metadata": {
    "scrolled": true
   },
   "outputs": [],
   "source": [
    "x1 = Value(2.0, label='x1')\n",
    "x2 = Value(0.0, label='x2')\n",
    "\n",
    "w1 = Value(-3.0, label='w1')\n",
    "w2 = Value(1.0, label='w2')\n",
    "b = Value(6.8813735870195432, label='b')\n",
    "\n",
    "x1w1 = x1 * w1; x1w1.label = 'x1w1'\n",
    "x2w2 = x2 * w2; x2w2.label = 'x2w2'\n",
    "\n",
    "x1w1x2w2 = x1w1 + x2w2; x1w1x2w2.label = 'x1w1 + x2w2'\n",
    "n = x1w1x2w2 + b; n.label = 'n'\n",
    "\n",
    "o = n.tanh()\n"
   ]
  },
  {
   "cell_type": "code",
   "execution_count": 80,
   "id": "ed79bb07-343d-4f07-a6c4-f17be85aad5c",
   "metadata": {
    "jupyter": {
     "source_hidden": true
    },
    "scrolled": true
   },
   "outputs": [
    {
     "data": {
      "image/svg+xml": [
       "<?xml version=\"1.0\" encoding=\"UTF-8\" standalone=\"no\"?>\n",
       "<!DOCTYPE svg PUBLIC \"-//W3C//DTD SVG 1.1//EN\"\n",
       " \"http://www.w3.org/Graphics/SVG/1.1/DTD/svg11.dtd\">\n",
       "<!-- Generated by graphviz version 12.1.0 (20240811.2233)\n",
       " -->\n",
       "<!-- Pages: 1 -->\n",
       "<svg width=\"1543pt\" height=\"210pt\"\n",
       " viewBox=\"0.00 0.00 1543.25 210.00\" xmlns=\"http://www.w3.org/2000/svg\" xmlns:xlink=\"http://www.w3.org/1999/xlink\">\n",
       "<g id=\"graph0\" class=\"graph\" transform=\"scale(1 1) rotate(0) translate(4 206)\">\n",
       "<polygon fill=\"white\" stroke=\"none\" points=\"-4,4 -4,-206 1539.25,-206 1539.25,4 -4,4\"/>\n",
       "<!-- 4632623120 -->\n",
       "<g id=\"node1\" class=\"node\">\n",
       "<title>4632623120</title>\n",
       "<polygon fill=\"none\" stroke=\"black\" points=\"326.25,-55.5 326.25,-91.5 533.25,-91.5 533.25,-55.5 326.25,-55.5\"/>\n",
       "<text text-anchor=\"middle\" x=\"349.25\" y=\"-68.7\" font-family=\"Times,serif\" font-size=\"14.00\">x2w2</text>\n",
       "<polyline fill=\"none\" stroke=\"black\" points=\"372.25,-56 372.25,-91.5\"/>\n",
       "<text text-anchor=\"middle\" x=\"412.12\" y=\"-68.7\" font-family=\"Times,serif\" font-size=\"14.00\">data 0.0000</text>\n",
       "<polyline fill=\"none\" stroke=\"black\" points=\"452,-56 452,-91.5\"/>\n",
       "<text text-anchor=\"middle\" x=\"492.62\" y=\"-68.7\" font-family=\"Times,serif\" font-size=\"14.00\">grad 0.5000</text>\n",
       "</g>\n",
       "<!-- 4632618512+ -->\n",
       "<g id=\"node4\" class=\"node\">\n",
       "<title>4632618512+</title>\n",
       "<ellipse fill=\"none\" stroke=\"black\" cx=\"598.5\" cy=\"-100.5\" rx=\"27\" ry=\"18\"/>\n",
       "<text text-anchor=\"middle\" x=\"598.5\" y=\"-95.45\" font-family=\"Times,serif\" font-size=\"14.00\">+</text>\n",
       "</g>\n",
       "<!-- 4632623120&#45;&gt;4632618512+ -->\n",
       "<g id=\"edge7\" class=\"edge\">\n",
       "<title>4632623120&#45;&gt;4632618512+</title>\n",
       "<path fill=\"none\" stroke=\"black\" d=\"M533.51,-90.14C543.16,-91.7 552.45,-93.21 560.82,-94.56\"/>\n",
       "<polygon fill=\"black\" stroke=\"black\" points=\"560.05,-97.98 570.48,-96.12 561.16,-91.07 560.05,-97.98\"/>\n",
       "</g>\n",
       "<!-- 4632623120* -->\n",
       "<g id=\"node2\" class=\"node\">\n",
       "<title>4632623120*</title>\n",
       "<ellipse fill=\"none\" stroke=\"black\" cx=\"261\" cy=\"-73.5\" rx=\"27\" ry=\"18\"/>\n",
       "<text text-anchor=\"middle\" x=\"261\" y=\"-68.45\" font-family=\"Times,serif\" font-size=\"14.00\">*</text>\n",
       "</g>\n",
       "<!-- 4632623120*&#45;&gt;4632623120 -->\n",
       "<g id=\"edge1\" class=\"edge\">\n",
       "<title>4632623120*&#45;&gt;4632623120</title>\n",
       "<path fill=\"none\" stroke=\"black\" d=\"M288.42,-73.5C296.08,-73.5 304.96,-73.5 314.47,-73.5\"/>\n",
       "<polygon fill=\"black\" stroke=\"black\" points=\"314.37,-77 324.37,-73.5 314.37,-70 314.37,-77\"/>\n",
       "</g>\n",
       "<!-- 4632618512 -->\n",
       "<g id=\"node3\" class=\"node\">\n",
       "<title>4632618512</title>\n",
       "<polygon fill=\"none\" stroke=\"black\" points=\"661.5,-82.5 661.5,-118.5 918.75,-118.5 918.75,-82.5 661.5,-82.5\"/>\n",
       "<text text-anchor=\"middle\" x=\"707.38\" y=\"-95.7\" font-family=\"Times,serif\" font-size=\"14.00\">x1w1 + x2w2</text>\n",
       "<polyline fill=\"none\" stroke=\"black\" points=\"753.25,-83 753.25,-118.5\"/>\n",
       "<text text-anchor=\"middle\" x=\"795.38\" y=\"-95.7\" font-family=\"Times,serif\" font-size=\"14.00\">data &#45;6.0000</text>\n",
       "<polyline fill=\"none\" stroke=\"black\" points=\"837.5,-83 837.5,-118.5\"/>\n",
       "<text text-anchor=\"middle\" x=\"878.12\" y=\"-95.7\" font-family=\"Times,serif\" font-size=\"14.00\">grad 0.5000</text>\n",
       "</g>\n",
       "<!-- 4632609424+ -->\n",
       "<g id=\"node7\" class=\"node\">\n",
       "<title>4632609424+</title>\n",
       "<ellipse fill=\"none\" stroke=\"black\" cx=\"981.75\" cy=\"-127.5\" rx=\"27\" ry=\"18\"/>\n",
       "<text text-anchor=\"middle\" x=\"981.75\" y=\"-122.45\" font-family=\"Times,serif\" font-size=\"14.00\">+</text>\n",
       "</g>\n",
       "<!-- 4632618512&#45;&gt;4632609424+ -->\n",
       "<g id=\"edge13\" class=\"edge\">\n",
       "<title>4632618512&#45;&gt;4632609424+</title>\n",
       "<path fill=\"none\" stroke=\"black\" d=\"M919.18,-118.73C927.81,-119.96 936.02,-121.13 943.46,-122.19\"/>\n",
       "<polygon fill=\"black\" stroke=\"black\" points=\"942.96,-125.65 953.35,-123.6 943.94,-118.72 942.96,-125.65\"/>\n",
       "</g>\n",
       "<!-- 4632618512+&#45;&gt;4632618512 -->\n",
       "<g id=\"edge2\" class=\"edge\">\n",
       "<title>4632618512+&#45;&gt;4632618512</title>\n",
       "<path fill=\"none\" stroke=\"black\" d=\"M625.87,-100.5C632.88,-100.5 640.96,-100.5 649.7,-100.5\"/>\n",
       "<polygon fill=\"black\" stroke=\"black\" points=\"649.57,-104 659.57,-100.5 649.57,-97 649.57,-104\"/>\n",
       "</g>\n",
       "<!-- 4632610896 -->\n",
       "<g id=\"node5\" class=\"node\">\n",
       "<title>4632610896</title>\n",
       "<polygon fill=\"none\" stroke=\"black\" points=\"1.5,-165.5 1.5,-201.5 196.5,-201.5 196.5,-165.5 1.5,-165.5\"/>\n",
       "<text text-anchor=\"middle\" x=\"16.25\" y=\"-178.7\" font-family=\"Times,serif\" font-size=\"14.00\">x1</text>\n",
       "<polyline fill=\"none\" stroke=\"black\" points=\"31,-166 31,-201.5\"/>\n",
       "<text text-anchor=\"middle\" x=\"70.88\" y=\"-178.7\" font-family=\"Times,serif\" font-size=\"14.00\">data 2.0000</text>\n",
       "<polyline fill=\"none\" stroke=\"black\" points=\"110.75,-166 110.75,-201.5\"/>\n",
       "<text text-anchor=\"middle\" x=\"153.62\" y=\"-178.7\" font-family=\"Times,serif\" font-size=\"14.00\">grad &#45;1.5000</text>\n",
       "</g>\n",
       "<!-- 4632610256* -->\n",
       "<g id=\"node11\" class=\"node\">\n",
       "<title>4632610256*</title>\n",
       "<ellipse fill=\"none\" stroke=\"black\" cx=\"261\" cy=\"-128.5\" rx=\"27\" ry=\"18\"/>\n",
       "<text text-anchor=\"middle\" x=\"261\" y=\"-123.45\" font-family=\"Times,serif\" font-size=\"14.00\">*</text>\n",
       "</g>\n",
       "<!-- 4632610896&#45;&gt;4632610256* -->\n",
       "<g id=\"edge10\" class=\"edge\">\n",
       "<title>4632610896&#45;&gt;4632610256*</title>\n",
       "<path fill=\"none\" stroke=\"black\" d=\"M172.12,-165.01C180.9,-162.35 189.7,-159.5 198,-156.5 208.09,-152.86 218.82,-148.27 228.47,-143.88\"/>\n",
       "<polygon fill=\"black\" stroke=\"black\" points=\"229.86,-147.09 237.45,-139.69 226.9,-140.75 229.86,-147.09\"/>\n",
       "</g>\n",
       "<!-- 4632609424 -->\n",
       "<g id=\"node6\" class=\"node\">\n",
       "<title>4632609424</title>\n",
       "<polygon fill=\"none\" stroke=\"black\" points=\"1044.75,-109.5 1044.75,-145.5 1228.5,-145.5 1228.5,-109.5 1044.75,-109.5\"/>\n",
       "<text text-anchor=\"middle\" x=\"1056.12\" y=\"-122.7\" font-family=\"Times,serif\" font-size=\"14.00\">n</text>\n",
       "<polyline fill=\"none\" stroke=\"black\" points=\"1067.5,-110 1067.5,-145.5\"/>\n",
       "<text text-anchor=\"middle\" x=\"1107.38\" y=\"-122.7\" font-family=\"Times,serif\" font-size=\"14.00\">data 0.8814</text>\n",
       "<polyline fill=\"none\" stroke=\"black\" points=\"1147.25,-110 1147.25,-145.5\"/>\n",
       "<text text-anchor=\"middle\" x=\"1187.88\" y=\"-122.7\" font-family=\"Times,serif\" font-size=\"14.00\">grad 0.5000</text>\n",
       "</g>\n",
       "<!-- 4632620496tanh -->\n",
       "<g id=\"node15\" class=\"node\">\n",
       "<title>4632620496tanh</title>\n",
       "<ellipse fill=\"none\" stroke=\"black\" cx=\"1291.5\" cy=\"-127.5\" rx=\"27\" ry=\"18\"/>\n",
       "<text text-anchor=\"middle\" x=\"1291.5\" y=\"-122.45\" font-family=\"Times,serif\" font-size=\"14.00\">tanh</text>\n",
       "</g>\n",
       "<!-- 4632609424&#45;&gt;4632620496tanh -->\n",
       "<g id=\"edge9\" class=\"edge\">\n",
       "<title>4632609424&#45;&gt;4632620496tanh</title>\n",
       "<path fill=\"none\" stroke=\"black\" d=\"M1228.76,-127.5C1237.14,-127.5 1245.27,-127.5 1252.73,-127.5\"/>\n",
       "<polygon fill=\"black\" stroke=\"black\" points=\"1252.7,-131 1262.7,-127.5 1252.7,-124 1252.7,-131\"/>\n",
       "</g>\n",
       "<!-- 4632609424+&#45;&gt;4632609424 -->\n",
       "<g id=\"edge3\" class=\"edge\">\n",
       "<title>4632609424+&#45;&gt;4632609424</title>\n",
       "<path fill=\"none\" stroke=\"black\" d=\"M1009.03,-127.5C1016.17,-127.5 1024.36,-127.5 1033.07,-127.5\"/>\n",
       "<polygon fill=\"black\" stroke=\"black\" points=\"1032.81,-131 1042.81,-127.5 1032.81,-124 1032.81,-131\"/>\n",
       "</g>\n",
       "<!-- 4632610960 -->\n",
       "<g id=\"node8\" class=\"node\">\n",
       "<title>4632610960</title>\n",
       "<polygon fill=\"none\" stroke=\"black\" points=\"2.25,-55.5 2.25,-91.5 195.75,-91.5 195.75,-55.5 2.25,-55.5\"/>\n",
       "<text text-anchor=\"middle\" x=\"18.5\" y=\"-68.7\" font-family=\"Times,serif\" font-size=\"14.00\">w2</text>\n",
       "<polyline fill=\"none\" stroke=\"black\" points=\"34.75,-56 34.75,-91.5\"/>\n",
       "<text text-anchor=\"middle\" x=\"74.62\" y=\"-68.7\" font-family=\"Times,serif\" font-size=\"14.00\">data 1.0000</text>\n",
       "<polyline fill=\"none\" stroke=\"black\" points=\"114.5,-56 114.5,-91.5\"/>\n",
       "<text text-anchor=\"middle\" x=\"155.12\" y=\"-68.7\" font-family=\"Times,serif\" font-size=\"14.00\">grad 0.0000</text>\n",
       "</g>\n",
       "<!-- 4632610960&#45;&gt;4632623120* -->\n",
       "<g id=\"edge14\" class=\"edge\">\n",
       "<title>4632610960&#45;&gt;4632623120*</title>\n",
       "<path fill=\"none\" stroke=\"black\" d=\"M195.84,-73.5C205.14,-73.5 214.15,-73.5 222.32,-73.5\"/>\n",
       "<polygon fill=\"black\" stroke=\"black\" points=\"222.13,-77 232.13,-73.5 222.13,-70 222.13,-77\"/>\n",
       "</g>\n",
       "<!-- 4632618768 -->\n",
       "<g id=\"node9\" class=\"node\">\n",
       "<title>4632618768</title>\n",
       "<polygon fill=\"none\" stroke=\"black\" points=\"698.25,-137.5 698.25,-173.5 882,-173.5 882,-137.5 698.25,-137.5\"/>\n",
       "<text text-anchor=\"middle\" x=\"709.62\" y=\"-150.7\" font-family=\"Times,serif\" font-size=\"14.00\">b</text>\n",
       "<polyline fill=\"none\" stroke=\"black\" points=\"721,-138 721,-173.5\"/>\n",
       "<text text-anchor=\"middle\" x=\"760.88\" y=\"-150.7\" font-family=\"Times,serif\" font-size=\"14.00\">data 6.8814</text>\n",
       "<polyline fill=\"none\" stroke=\"black\" points=\"800.75,-138 800.75,-173.5\"/>\n",
       "<text text-anchor=\"middle\" x=\"841.38\" y=\"-150.7\" font-family=\"Times,serif\" font-size=\"14.00\">grad 0.5000</text>\n",
       "</g>\n",
       "<!-- 4632618768&#45;&gt;4632609424+ -->\n",
       "<g id=\"edge6\" class=\"edge\">\n",
       "<title>4632618768&#45;&gt;4632609424+</title>\n",
       "<path fill=\"none\" stroke=\"black\" d=\"M882.33,-142.03C904.17,-138.81 926.27,-135.54 943.98,-132.93\"/>\n",
       "<polygon fill=\"black\" stroke=\"black\" points=\"944.33,-136.42 953.71,-131.49 943.31,-129.49 944.33,-136.42\"/>\n",
       "</g>\n",
       "<!-- 4632610256 -->\n",
       "<g id=\"node10\" class=\"node\">\n",
       "<title>4632610256</title>\n",
       "<polygon fill=\"none\" stroke=\"black\" points=\"324,-110.5 324,-146.5 535.5,-146.5 535.5,-110.5 324,-110.5\"/>\n",
       "<text text-anchor=\"middle\" x=\"347\" y=\"-123.7\" font-family=\"Times,serif\" font-size=\"14.00\">x1w1</text>\n",
       "<polyline fill=\"none\" stroke=\"black\" points=\"370,-111 370,-146.5\"/>\n",
       "<text text-anchor=\"middle\" x=\"412.12\" y=\"-123.7\" font-family=\"Times,serif\" font-size=\"14.00\">data &#45;6.0000</text>\n",
       "<polyline fill=\"none\" stroke=\"black\" points=\"454.25,-111 454.25,-146.5\"/>\n",
       "<text text-anchor=\"middle\" x=\"494.88\" y=\"-123.7\" font-family=\"Times,serif\" font-size=\"14.00\">grad 0.5000</text>\n",
       "</g>\n",
       "<!-- 4632610256&#45;&gt;4632618512+ -->\n",
       "<g id=\"edge8\" class=\"edge\">\n",
       "<title>4632610256&#45;&gt;4632618512+</title>\n",
       "<path fill=\"none\" stroke=\"black\" d=\"M535.88,-110.85C544.59,-109.38 552.96,-107.98 560.56,-106.7\"/>\n",
       "<polygon fill=\"black\" stroke=\"black\" points=\"561.06,-110.17 570.34,-105.06 559.9,-103.26 561.06,-110.17\"/>\n",
       "</g>\n",
       "<!-- 4632610256*&#45;&gt;4632610256 -->\n",
       "<g id=\"edge4\" class=\"edge\">\n",
       "<title>4632610256*&#45;&gt;4632610256</title>\n",
       "<path fill=\"none\" stroke=\"black\" d=\"M288.42,-128.5C295.52,-128.5 303.68,-128.5 312.42,-128.5\"/>\n",
       "<polygon fill=\"black\" stroke=\"black\" points=\"312.24,-132 322.24,-128.5 312.24,-125 312.24,-132\"/>\n",
       "</g>\n",
       "<!-- 4632619344 -->\n",
       "<g id=\"node12\" class=\"node\">\n",
       "<title>4632619344</title>\n",
       "<polygon fill=\"none\" stroke=\"black\" points=\"3.75,-0.5 3.75,-36.5 194.25,-36.5 194.25,-0.5 3.75,-0.5\"/>\n",
       "<text text-anchor=\"middle\" x=\"18.5\" y=\"-13.7\" font-family=\"Times,serif\" font-size=\"14.00\">x2</text>\n",
       "<polyline fill=\"none\" stroke=\"black\" points=\"33.25,-1 33.25,-36.5\"/>\n",
       "<text text-anchor=\"middle\" x=\"73.12\" y=\"-13.7\" font-family=\"Times,serif\" font-size=\"14.00\">data 0.0000</text>\n",
       "<polyline fill=\"none\" stroke=\"black\" points=\"113,-1 113,-36.5\"/>\n",
       "<text text-anchor=\"middle\" x=\"153.62\" y=\"-13.7\" font-family=\"Times,serif\" font-size=\"14.00\">grad 0.5000</text>\n",
       "</g>\n",
       "<!-- 4632619344&#45;&gt;4632623120* -->\n",
       "<g id=\"edge11\" class=\"edge\">\n",
       "<title>4632619344&#45;&gt;4632623120*</title>\n",
       "<path fill=\"none\" stroke=\"black\" d=\"M168.91,-36.94C178.74,-39.93 188.67,-43.15 198,-46.5 207.96,-50.07 218.58,-54.47 228.18,-58.68\"/>\n",
       "<polygon fill=\"black\" stroke=\"black\" points=\"226.54,-61.78 237.1,-62.67 229.4,-55.39 226.54,-61.78\"/>\n",
       "</g>\n",
       "<!-- 4632619856 -->\n",
       "<g id=\"node13\" class=\"node\">\n",
       "<title>4632619856</title>\n",
       "<polygon fill=\"none\" stroke=\"black\" points=\"0,-110.5 0,-146.5 198,-146.5 198,-110.5 0,-110.5\"/>\n",
       "<text text-anchor=\"middle\" x=\"16.25\" y=\"-123.7\" font-family=\"Times,serif\" font-size=\"14.00\">w1</text>\n",
       "<polyline fill=\"none\" stroke=\"black\" points=\"32.5,-111 32.5,-146.5\"/>\n",
       "<text text-anchor=\"middle\" x=\"74.62\" y=\"-123.7\" font-family=\"Times,serif\" font-size=\"14.00\">data &#45;3.0000</text>\n",
       "<polyline fill=\"none\" stroke=\"black\" points=\"116.75,-111 116.75,-146.5\"/>\n",
       "<text text-anchor=\"middle\" x=\"157.38\" y=\"-123.7\" font-family=\"Times,serif\" font-size=\"14.00\">grad 1.0000</text>\n",
       "</g>\n",
       "<!-- 4632619856&#45;&gt;4632610256* -->\n",
       "<g id=\"edge12\" class=\"edge\">\n",
       "<title>4632619856&#45;&gt;4632610256*</title>\n",
       "<path fill=\"none\" stroke=\"black\" d=\"M198.14,-128.5C206.61,-128.5 214.8,-128.5 222.29,-128.5\"/>\n",
       "<polygon fill=\"black\" stroke=\"black\" points=\"222.29,-132 232.29,-128.5 222.29,-125 222.29,-132\"/>\n",
       "</g>\n",
       "<!-- 4632620496 -->\n",
       "<g id=\"node14\" class=\"node\">\n",
       "<title>4632620496</title>\n",
       "<polygon fill=\"none\" stroke=\"black\" points=\"1354.5,-109.5 1354.5,-145.5 1535.25,-145.5 1535.25,-109.5 1354.5,-109.5\"/>\n",
       "<text text-anchor=\"middle\" x=\"1364.38\" y=\"-122.7\" font-family=\"Times,serif\" font-size=\"14.00\"> </text>\n",
       "<polyline fill=\"none\" stroke=\"black\" points=\"1374.25,-110 1374.25,-145.5\"/>\n",
       "<text text-anchor=\"middle\" x=\"1414.12\" y=\"-122.7\" font-family=\"Times,serif\" font-size=\"14.00\">data 0.7071</text>\n",
       "<polyline fill=\"none\" stroke=\"black\" points=\"1454,-110 1454,-145.5\"/>\n",
       "<text text-anchor=\"middle\" x=\"1494.62\" y=\"-122.7\" font-family=\"Times,serif\" font-size=\"14.00\">grad 1.0000</text>\n",
       "</g>\n",
       "<!-- 4632620496tanh&#45;&gt;4632620496 -->\n",
       "<g id=\"edge5\" class=\"edge\">\n",
       "<title>4632620496tanh&#45;&gt;4632620496</title>\n",
       "<path fill=\"none\" stroke=\"black\" d=\"M1318.87,-127.5C1326.01,-127.5 1334.2,-127.5 1342.89,-127.5\"/>\n",
       "<polygon fill=\"black\" stroke=\"black\" points=\"1342.61,-131 1352.61,-127.5 1342.61,-124 1342.61,-131\"/>\n",
       "</g>\n",
       "</g>\n",
       "</svg>\n"
      ],
      "text/plain": [
       "<graphviz.graphs.Digraph at 0x1141c1390>"
      ]
     },
     "execution_count": 80,
     "metadata": {},
     "output_type": "execute_result"
    }
   ],
   "source": [
    "draw_dot(o)"
   ]
  },
  {
   "cell_type": "code",
   "execution_count": 69,
   "id": "a68d2dea-5f47-4720-a26f-a1a3ba8c91ab",
   "metadata": {},
   "outputs": [],
   "source": [
    "o.grad = 1.0\n",
    "o._backward()"
   ]
  },
  {
   "cell_type": "code",
   "execution_count": 71,
   "id": "021c9514-cb3a-4f46-b270-1838936afd26",
   "metadata": {},
   "outputs": [],
   "source": [
    "n._backward()"
   ]
  },
  {
   "cell_type": "code",
   "execution_count": 73,
   "id": "6abbbc91-ccce-46ec-9d93-ca6946ca87e6",
   "metadata": {},
   "outputs": [],
   "source": [
    "x1w1x2w2._backward()"
   ]
  },
  {
   "cell_type": "code",
   "execution_count": 75,
   "id": "33abc563-fc53-4229-8358-2c6f1484eced",
   "metadata": {},
   "outputs": [],
   "source": [
    "x1w1._backward()\n",
    "x2w2._backward()"
   ]
  },
  {
   "cell_type": "code",
   "execution_count": 76,
   "id": "88d7f026-22a9-4d18-b3d6-b65f15b87dc8",
   "metadata": {},
   "outputs": [],
   "source": [
    "o.grad = 1.0"
   ]
  },
  {
   "cell_type": "code",
   "execution_count": 44,
   "id": "2836ada3-e596-4da1-bb59-398fa4a20d20",
   "metadata": {},
   "outputs": [
    {
     "data": {
      "text/plain": [
       "0.4999999999999999"
      ]
     },
     "execution_count": 44,
     "metadata": {},
     "output_type": "execute_result"
    }
   ],
   "source": [
    "# derivative of tanh\n",
    "1 - o.data**2"
   ]
  },
  {
   "cell_type": "code",
   "execution_count": 47,
   "id": "b787b5ad-d9cf-4d0b-9322-5fafeb8d5484",
   "metadata": {},
   "outputs": [],
   "source": [
    "n.grad = 0.5"
   ]
  },
  {
   "cell_type": "code",
   "execution_count": 48,
   "id": "eecfd385-b2b6-4d39-a85c-2f933656dbf0",
   "metadata": {},
   "outputs": [],
   "source": [
    "x1w1x2w2.grad = n.grad"
   ]
  },
  {
   "cell_type": "code",
   "execution_count": 49,
   "id": "4ef22392-184c-4efc-bc66-78d1e914537f",
   "metadata": {},
   "outputs": [],
   "source": [
    "b.grad = n.grad"
   ]
  },
  {
   "cell_type": "code",
   "execution_count": 51,
   "id": "2f79e51a-ff22-4937-9a6d-4522f7e2e9a3",
   "metadata": {},
   "outputs": [],
   "source": [
    "x1w1.grad = x1w1x2w2.grad\n",
    "x2w2.grad = x1w1x2w2.grad"
   ]
  },
  {
   "cell_type": "code",
   "execution_count": 53,
   "id": "196fed08-25dd-4050-bb00-38216636fb2d",
   "metadata": {},
   "outputs": [],
   "source": [
    "x1.grad = x1w1.grad * w1.data\n",
    "w1.grad = x1w1.grad * x1.data"
   ]
  },
  {
   "cell_type": "code",
   "execution_count": 54,
   "id": "8fa4acb7-6e80-42d5-9020-ecfa292d89f5",
   "metadata": {},
   "outputs": [],
   "source": [
    "x2.grad = x2w2.grad * w2.data\n",
    "w2.grad = x2w2.grad * x2.data"
   ]
  },
  {
   "cell_type": "code",
   "execution_count": null,
   "id": "4975a79e-89fc-4057-934b-d401e753660f",
   "metadata": {},
   "outputs": [],
   "source": []
  }
 ],
 "metadata": {
  "kernelspec": {
   "display_name": "Python 3 (ipykernel)",
   "language": "python",
   "name": "python3"
  },
  "language_info": {
   "codemirror_mode": {
    "name": "ipython",
    "version": 3
   },
   "file_extension": ".py",
   "mimetype": "text/x-python",
   "name": "python",
   "nbconvert_exporter": "python",
   "pygments_lexer": "ipython3",
   "version": "3.11.1"
  }
 },
 "nbformat": 4,
 "nbformat_minor": 5
}
